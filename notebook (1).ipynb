{
  "cells": [
    {
      "metadata": {
        "_uuid": "b5deb0d5a0abc75e0dc14f27c180ace5dcdb1296",
        "_cell_guid": "6435dd55-97a5-48cc-86ce-b3c1c9494ade",
        "collapsed": true,
        "trusted": true
      },
      "cell_type": "code",
      "source": "%matplotlib inline\nimport numpy as np\nimport matplotlib.pyplot as plt\nimport pandas as pd\nimport cv2",
      "execution_count": 1,
      "outputs": []
    },
    {
      "metadata": {
        "_uuid": "c0cc89d65aa051fdd178a1fdc5434868f5c66d17",
        "_cell_guid": "95997dd5-9174-4265-80e3-3b18593759bf",
        "collapsed": true,
        "trusted": true
      },
      "cell_type": "code",
      "source": "# reading the training and testing dataset from csv files\ntrain = pd.read_csv(\"../input/train.csv\")\ntest = pd.read_csv(\"../input/test.csv\")",
      "execution_count": 2,
      "outputs": []
    },
    {
      "metadata": {
        "_uuid": "27d19deb0f88fe1230005a013adb10776b20c567",
        "scrolled": true,
        "_cell_guid": "818b3f10-94c4-4add-8b34-275a23e07ee8",
        "trusted": true
      },
      "cell_type": "code",
      "source": "train.head()",
      "execution_count": 3,
      "outputs": [
        {
          "output_type": "execute_result",
          "execution_count": 3,
          "data": {
            "text/plain": "   label  pixel0  pixel1  pixel2  pixel3  pixel4  pixel5  pixel6  pixel7  \\\n0      1       0       0       0       0       0       0       0       0   \n1      0       0       0       0       0       0       0       0       0   \n2      1       0       0       0       0       0       0       0       0   \n3      4       0       0       0       0       0       0       0       0   \n4      0       0       0       0       0       0       0       0       0   \n\n   pixel8    ...     pixel774  pixel775  pixel776  pixel777  pixel778  \\\n0       0    ...            0         0         0         0         0   \n1       0    ...            0         0         0         0         0   \n2       0    ...            0         0         0         0         0   \n3       0    ...            0         0         0         0         0   \n4       0    ...            0         0         0         0         0   \n\n   pixel779  pixel780  pixel781  pixel782  pixel783  \n0         0         0         0         0         0  \n1         0         0         0         0         0  \n2         0         0         0         0         0  \n3         0         0         0         0         0  \n4         0         0         0         0         0  \n\n[5 rows x 785 columns]",
            "text/html": "<div>\n<style>\n    .dataframe thead tr:only-child th {\n        text-align: right;\n    }\n\n    .dataframe thead th {\n        text-align: left;\n    }\n\n    .dataframe tbody tr th {\n        vertical-align: top;\n    }\n</style>\n<table border=\"1\" class=\"dataframe\">\n  <thead>\n    <tr style=\"text-align: right;\">\n      <th></th>\n      <th>label</th>\n      <th>pixel0</th>\n      <th>pixel1</th>\n      <th>pixel2</th>\n      <th>pixel3</th>\n      <th>pixel4</th>\n      <th>pixel5</th>\n      <th>pixel6</th>\n      <th>pixel7</th>\n      <th>pixel8</th>\n      <th>...</th>\n      <th>pixel774</th>\n      <th>pixel775</th>\n      <th>pixel776</th>\n      <th>pixel777</th>\n      <th>pixel778</th>\n      <th>pixel779</th>\n      <th>pixel780</th>\n      <th>pixel781</th>\n      <th>pixel782</th>\n      <th>pixel783</th>\n    </tr>\n  </thead>\n  <tbody>\n    <tr>\n      <th>0</th>\n      <td>1</td>\n      <td>0</td>\n      <td>0</td>\n      <td>0</td>\n      <td>0</td>\n      <td>0</td>\n      <td>0</td>\n      <td>0</td>\n      <td>0</td>\n      <td>0</td>\n      <td>...</td>\n      <td>0</td>\n      <td>0</td>\n      <td>0</td>\n      <td>0</td>\n      <td>0</td>\n      <td>0</td>\n      <td>0</td>\n      <td>0</td>\n      <td>0</td>\n      <td>0</td>\n    </tr>\n    <tr>\n      <th>1</th>\n      <td>0</td>\n      <td>0</td>\n      <td>0</td>\n      <td>0</td>\n      <td>0</td>\n      <td>0</td>\n      <td>0</td>\n      <td>0</td>\n      <td>0</td>\n      <td>0</td>\n      <td>...</td>\n      <td>0</td>\n      <td>0</td>\n      <td>0</td>\n      <td>0</td>\n      <td>0</td>\n      <td>0</td>\n      <td>0</td>\n      <td>0</td>\n      <td>0</td>\n      <td>0</td>\n    </tr>\n    <tr>\n      <th>2</th>\n      <td>1</td>\n      <td>0</td>\n      <td>0</td>\n      <td>0</td>\n      <td>0</td>\n      <td>0</td>\n      <td>0</td>\n      <td>0</td>\n      <td>0</td>\n      <td>0</td>\n      <td>...</td>\n      <td>0</td>\n      <td>0</td>\n      <td>0</td>\n      <td>0</td>\n      <td>0</td>\n      <td>0</td>\n      <td>0</td>\n      <td>0</td>\n      <td>0</td>\n      <td>0</td>\n    </tr>\n    <tr>\n      <th>3</th>\n      <td>4</td>\n      <td>0</td>\n      <td>0</td>\n      <td>0</td>\n      <td>0</td>\n      <td>0</td>\n      <td>0</td>\n      <td>0</td>\n      <td>0</td>\n      <td>0</td>\n      <td>...</td>\n      <td>0</td>\n      <td>0</td>\n      <td>0</td>\n      <td>0</td>\n      <td>0</td>\n      <td>0</td>\n      <td>0</td>\n      <td>0</td>\n      <td>0</td>\n      <td>0</td>\n    </tr>\n    <tr>\n      <th>4</th>\n      <td>0</td>\n      <td>0</td>\n      <td>0</td>\n      <td>0</td>\n      <td>0</td>\n      <td>0</td>\n      <td>0</td>\n      <td>0</td>\n      <td>0</td>\n      <td>0</td>\n      <td>...</td>\n      <td>0</td>\n      <td>0</td>\n      <td>0</td>\n      <td>0</td>\n      <td>0</td>\n      <td>0</td>\n      <td>0</td>\n      <td>0</td>\n      <td>0</td>\n      <td>0</td>\n    </tr>\n  </tbody>\n</table>\n<p>5 rows × 785 columns</p>\n</div>"
          },
          "metadata": {}
        }
      ]
    },
    {
      "metadata": {
        "_uuid": "e868f11ee7ef179b4080280260793cfd089e8c4e",
        "_cell_guid": "4025d53c-7d84-4dfe-a3a0-cccc002e00aa",
        "trusted": true
      },
      "cell_type": "code",
      "source": "test.head()",
      "execution_count": 4,
      "outputs": [
        {
          "output_type": "execute_result",
          "execution_count": 4,
          "data": {
            "text/plain": "   pixel0  pixel1  pixel2  pixel3  pixel4  pixel5  pixel6  pixel7  pixel8  \\\n0       0       0       0       0       0       0       0       0       0   \n1       0       0       0       0       0       0       0       0       0   \n2       0       0       0       0       0       0       0       0       0   \n3       0       0       0       0       0       0       0       0       0   \n4       0       0       0       0       0       0       0       0       0   \n\n   pixel9    ...     pixel774  pixel775  pixel776  pixel777  pixel778  \\\n0       0    ...            0         0         0         0         0   \n1       0    ...            0         0         0         0         0   \n2       0    ...            0         0         0         0         0   \n3       0    ...            0         0         0         0         0   \n4       0    ...            0         0         0         0         0   \n\n   pixel779  pixel780  pixel781  pixel782  pixel783  \n0         0         0         0         0         0  \n1         0         0         0         0         0  \n2         0         0         0         0         0  \n3         0         0         0         0         0  \n4         0         0         0         0         0  \n\n[5 rows x 784 columns]",
            "text/html": "<div>\n<style>\n    .dataframe thead tr:only-child th {\n        text-align: right;\n    }\n\n    .dataframe thead th {\n        text-align: left;\n    }\n\n    .dataframe tbody tr th {\n        vertical-align: top;\n    }\n</style>\n<table border=\"1\" class=\"dataframe\">\n  <thead>\n    <tr style=\"text-align: right;\">\n      <th></th>\n      <th>pixel0</th>\n      <th>pixel1</th>\n      <th>pixel2</th>\n      <th>pixel3</th>\n      <th>pixel4</th>\n      <th>pixel5</th>\n      <th>pixel6</th>\n      <th>pixel7</th>\n      <th>pixel8</th>\n      <th>pixel9</th>\n      <th>...</th>\n      <th>pixel774</th>\n      <th>pixel775</th>\n      <th>pixel776</th>\n      <th>pixel777</th>\n      <th>pixel778</th>\n      <th>pixel779</th>\n      <th>pixel780</th>\n      <th>pixel781</th>\n      <th>pixel782</th>\n      <th>pixel783</th>\n    </tr>\n  </thead>\n  <tbody>\n    <tr>\n      <th>0</th>\n      <td>0</td>\n      <td>0</td>\n      <td>0</td>\n      <td>0</td>\n      <td>0</td>\n      <td>0</td>\n      <td>0</td>\n      <td>0</td>\n      <td>0</td>\n      <td>0</td>\n      <td>...</td>\n      <td>0</td>\n      <td>0</td>\n      <td>0</td>\n      <td>0</td>\n      <td>0</td>\n      <td>0</td>\n      <td>0</td>\n      <td>0</td>\n      <td>0</td>\n      <td>0</td>\n    </tr>\n    <tr>\n      <th>1</th>\n      <td>0</td>\n      <td>0</td>\n      <td>0</td>\n      <td>0</td>\n      <td>0</td>\n      <td>0</td>\n      <td>0</td>\n      <td>0</td>\n      <td>0</td>\n      <td>0</td>\n      <td>...</td>\n      <td>0</td>\n      <td>0</td>\n      <td>0</td>\n      <td>0</td>\n      <td>0</td>\n      <td>0</td>\n      <td>0</td>\n      <td>0</td>\n      <td>0</td>\n      <td>0</td>\n    </tr>\n    <tr>\n      <th>2</th>\n      <td>0</td>\n      <td>0</td>\n      <td>0</td>\n      <td>0</td>\n      <td>0</td>\n      <td>0</td>\n      <td>0</td>\n      <td>0</td>\n      <td>0</td>\n      <td>0</td>\n      <td>...</td>\n      <td>0</td>\n      <td>0</td>\n      <td>0</td>\n      <td>0</td>\n      <td>0</td>\n      <td>0</td>\n      <td>0</td>\n      <td>0</td>\n      <td>0</td>\n      <td>0</td>\n    </tr>\n    <tr>\n      <th>3</th>\n      <td>0</td>\n      <td>0</td>\n      <td>0</td>\n      <td>0</td>\n      <td>0</td>\n      <td>0</td>\n      <td>0</td>\n      <td>0</td>\n      <td>0</td>\n      <td>0</td>\n      <td>...</td>\n      <td>0</td>\n      <td>0</td>\n      <td>0</td>\n      <td>0</td>\n      <td>0</td>\n      <td>0</td>\n      <td>0</td>\n      <td>0</td>\n      <td>0</td>\n      <td>0</td>\n    </tr>\n    <tr>\n      <th>4</th>\n      <td>0</td>\n      <td>0</td>\n      <td>0</td>\n      <td>0</td>\n      <td>0</td>\n      <td>0</td>\n      <td>0</td>\n      <td>0</td>\n      <td>0</td>\n      <td>0</td>\n      <td>...</td>\n      <td>0</td>\n      <td>0</td>\n      <td>0</td>\n      <td>0</td>\n      <td>0</td>\n      <td>0</td>\n      <td>0</td>\n      <td>0</td>\n      <td>0</td>\n      <td>0</td>\n    </tr>\n  </tbody>\n</table>\n<p>5 rows × 784 columns</p>\n</div>"
          },
          "metadata": {}
        }
      ]
    },
    {
      "metadata": {
        "_uuid": "31c38a3ef4eb94067cc5613b152ef7597efae80a",
        "_cell_guid": "f015a5da-0431-4326-bf01-d03df6dcc761",
        "collapsed": true,
        "trusted": true
      },
      "cell_type": "code",
      "source": "# labels of training features\ntrain_y = train[\"label\"]",
      "execution_count": 5,
      "outputs": []
    },
    {
      "metadata": {
        "_uuid": "6e76214ca83dc9b448e7bf4b45bde0a169753514",
        "_cell_guid": "396e5e29-5f1b-42aa-b741-9308e3b8dcc1",
        "trusted": true
      },
      "cell_type": "code",
      "source": "train_y.head()",
      "execution_count": 6,
      "outputs": [
        {
          "output_type": "execute_result",
          "execution_count": 6,
          "data": {
            "text/plain": "0    1\n1    0\n2    1\n3    4\n4    0\nName: label, dtype: int64"
          },
          "metadata": {}
        }
      ]
    },
    {
      "metadata": {
        "_uuid": "abbd2eb487e5e8dc9dd93c1c9ef88b4f66c7cd68",
        "_cell_guid": "b88e4238-168a-497c-8294-806bcb9ecef9",
        "collapsed": true,
        "trusted": true
      },
      "cell_type": "code",
      "source": "# finding the training freature\ntrain_x = train.iloc[:,1:785]",
      "execution_count": 7,
      "outputs": []
    },
    {
      "metadata": {
        "_uuid": "9940d71520386721680f0bb5e93c83fb0ed2232b",
        "_cell_guid": "f37d118a-83de-4f32-80f5-fb328945e9b0",
        "trusted": true
      },
      "cell_type": "code",
      "source": "train_x.head()",
      "execution_count": 8,
      "outputs": [
        {
          "output_type": "execute_result",
          "execution_count": 8,
          "data": {
            "text/plain": "   pixel0  pixel1  pixel2  pixel3  pixel4  pixel5  pixel6  pixel7  pixel8  \\\n0       0       0       0       0       0       0       0       0       0   \n1       0       0       0       0       0       0       0       0       0   \n2       0       0       0       0       0       0       0       0       0   \n3       0       0       0       0       0       0       0       0       0   \n4       0       0       0       0       0       0       0       0       0   \n\n   pixel9    ...     pixel774  pixel775  pixel776  pixel777  pixel778  \\\n0       0    ...            0         0         0         0         0   \n1       0    ...            0         0         0         0         0   \n2       0    ...            0         0         0         0         0   \n3       0    ...            0         0         0         0         0   \n4       0    ...            0         0         0         0         0   \n\n   pixel779  pixel780  pixel781  pixel782  pixel783  \n0         0         0         0         0         0  \n1         0         0         0         0         0  \n2         0         0         0         0         0  \n3         0         0         0         0         0  \n4         0         0         0         0         0  \n\n[5 rows x 784 columns]",
            "text/html": "<div>\n<style>\n    .dataframe thead tr:only-child th {\n        text-align: right;\n    }\n\n    .dataframe thead th {\n        text-align: left;\n    }\n\n    .dataframe tbody tr th {\n        vertical-align: top;\n    }\n</style>\n<table border=\"1\" class=\"dataframe\">\n  <thead>\n    <tr style=\"text-align: right;\">\n      <th></th>\n      <th>pixel0</th>\n      <th>pixel1</th>\n      <th>pixel2</th>\n      <th>pixel3</th>\n      <th>pixel4</th>\n      <th>pixel5</th>\n      <th>pixel6</th>\n      <th>pixel7</th>\n      <th>pixel8</th>\n      <th>pixel9</th>\n      <th>...</th>\n      <th>pixel774</th>\n      <th>pixel775</th>\n      <th>pixel776</th>\n      <th>pixel777</th>\n      <th>pixel778</th>\n      <th>pixel779</th>\n      <th>pixel780</th>\n      <th>pixel781</th>\n      <th>pixel782</th>\n      <th>pixel783</th>\n    </tr>\n  </thead>\n  <tbody>\n    <tr>\n      <th>0</th>\n      <td>0</td>\n      <td>0</td>\n      <td>0</td>\n      <td>0</td>\n      <td>0</td>\n      <td>0</td>\n      <td>0</td>\n      <td>0</td>\n      <td>0</td>\n      <td>0</td>\n      <td>...</td>\n      <td>0</td>\n      <td>0</td>\n      <td>0</td>\n      <td>0</td>\n      <td>0</td>\n      <td>0</td>\n      <td>0</td>\n      <td>0</td>\n      <td>0</td>\n      <td>0</td>\n    </tr>\n    <tr>\n      <th>1</th>\n      <td>0</td>\n      <td>0</td>\n      <td>0</td>\n      <td>0</td>\n      <td>0</td>\n      <td>0</td>\n      <td>0</td>\n      <td>0</td>\n      <td>0</td>\n      <td>0</td>\n      <td>...</td>\n      <td>0</td>\n      <td>0</td>\n      <td>0</td>\n      <td>0</td>\n      <td>0</td>\n      <td>0</td>\n      <td>0</td>\n      <td>0</td>\n      <td>0</td>\n      <td>0</td>\n    </tr>\n    <tr>\n      <th>2</th>\n      <td>0</td>\n      <td>0</td>\n      <td>0</td>\n      <td>0</td>\n      <td>0</td>\n      <td>0</td>\n      <td>0</td>\n      <td>0</td>\n      <td>0</td>\n      <td>0</td>\n      <td>...</td>\n      <td>0</td>\n      <td>0</td>\n      <td>0</td>\n      <td>0</td>\n      <td>0</td>\n      <td>0</td>\n      <td>0</td>\n      <td>0</td>\n      <td>0</td>\n      <td>0</td>\n    </tr>\n    <tr>\n      <th>3</th>\n      <td>0</td>\n      <td>0</td>\n      <td>0</td>\n      <td>0</td>\n      <td>0</td>\n      <td>0</td>\n      <td>0</td>\n      <td>0</td>\n      <td>0</td>\n      <td>0</td>\n      <td>...</td>\n      <td>0</td>\n      <td>0</td>\n      <td>0</td>\n      <td>0</td>\n      <td>0</td>\n      <td>0</td>\n      <td>0</td>\n      <td>0</td>\n      <td>0</td>\n      <td>0</td>\n    </tr>\n    <tr>\n      <th>4</th>\n      <td>0</td>\n      <td>0</td>\n      <td>0</td>\n      <td>0</td>\n      <td>0</td>\n      <td>0</td>\n      <td>0</td>\n      <td>0</td>\n      <td>0</td>\n      <td>0</td>\n      <td>...</td>\n      <td>0</td>\n      <td>0</td>\n      <td>0</td>\n      <td>0</td>\n      <td>0</td>\n      <td>0</td>\n      <td>0</td>\n      <td>0</td>\n      <td>0</td>\n      <td>0</td>\n    </tr>\n  </tbody>\n</table>\n<p>5 rows × 784 columns</p>\n</div>"
          },
          "metadata": {}
        }
      ]
    },
    {
      "metadata": {
        "_uuid": "9ee6272143f773e8b87fd21a4f8929b25216ca98",
        "_cell_guid": "0abe160b-0682-4ef6-a39c-68d3cdd04d78",
        "trusted": true
      },
      "cell_type": "code",
      "source": "# Explore the dataset\nm_train = train.shape[0]\nnum_px = test.shape[1]\nm_test = test.shape[0]\nprint(\"Number of training examples: \" + str(m_train))\nprint(\"Number of testing examples: \"+ str(m_test))\nprint(\"Size of each image: (\"+ str(int(np.sqrt(num_px))) + \", \" + str(int(np.sqrt(num_px)))+\")\")\nprint(\"Shape of training features: \" + str(train.shape))\nprint(\"Shape of testing features: \" + str(test.shape))\nprint(\"Shape of labels of tarining features: \" + str(train_y.shape))",
      "execution_count": 9,
      "outputs": [
        {
          "output_type": "stream",
          "text": "Number of training examples: 42000\nNumber of testing examples: 28000\nSize of each image: (28, 28)\nShape of training features: (42000, 785)\nShape of testing features: (28000, 784)\nShape of labels of tarining features: (42000,)\n",
          "name": "stdout"
        }
      ]
    },
    {
      "metadata": {
        "_uuid": "9136b43b03780d3c9d3d35647bf4e4588ed31c2b",
        "_cell_guid": "3905e94b-62c7-42af-906a-d131ab876d3c",
        "trusted": true
      },
      "cell_type": "code",
      "source": "# Examples of digits\nindex = 100\nplt.figure(1)\nplt.imshow(train_x.iloc[index,:].reshape(28,28))\nprint(\"Corresponding label = \" + str(train_y[index]))",
      "execution_count": 10,
      "outputs": [
        {
          "output_type": "stream",
          "text": "Corresponding label = 9\n",
          "name": "stdout"
        },
        {
          "output_type": "stream",
          "text": "/opt/conda/lib/python3.6/site-packages/ipykernel_launcher.py:4: FutureWarning: reshape is deprecated and will raise in a subsequent release. Please use .values.reshape(...) instead\n  after removing the cwd from sys.path.\n",
          "name": "stderr"
        },
        {
          "output_type": "display_data",
          "data": {
            "text/plain": "<matplotlib.figure.Figure at 0x7ff8cc3f5cf8>",
            "image/png": "[encoded data removed]"
          },
          "metadata": {}
        }
      ]
    },
    {
      "metadata": {
        "_uuid": "cddd84eda8493f770e0b3c2c385b5f479c8ad9ce",
        "_cell_guid": "a7e53db4-de41-48f7-ace3-20fa73e8f9ff",
        "trusted": true
      },
      "cell_type": "code",
      "source": "# Standardize data to have feature values between 0 and 1\ntarin_x = train_x/255\ntest_x = test/255\n\nprint(\"train_x's shape: \"+str(train_x.shape))\nprint(\"test_x's shape: \"+str(test_x.shape))",
      "execution_count": 11,
      "outputs": [
        {
          "output_type": "stream",
          "text": "train_x's shape: (42000, 784)\ntest_x's shape: (28000, 784)\n",
          "name": "stdout"
        }
      ]
    },
    {
      "metadata": {
        "_uuid": "8cc523cee2e08e5b786eab8bdb624a95a19e707a",
        "_cell_guid": "cc77b5e0-9a93-496e-84d5-f3e22fe14577",
        "collapsed": true,
        "trusted": true
      },
      "cell_type": "code",
      "source": "# initialize parameters\ndef initialize_parameters(n_x,n_h,n_y):\n    \"\"\"\n    inputs:\n    n_x -- size of input layer\n    n_h -- size of hidden layer\n    n_y -- size of output layer\n    \n    outputs:\n    parameters\n    \"\"\"\n    # W1 : weight of matrix of shape (n_h,n_x)\n    W1 = np.random.randn(n_h,n_x) * 0.01\n    # b1 : bias vector of shape (n_h,1)\n    b1 = np.zeros((n_h,1))\n    # W2 : weight of matrix of shape (n_y,n_h)\n    W2 = np.random.randn(n_y,n_h) * 0.01\n    # b2 : bias vector of shape (n_y,1)\n    b2 = np.zeros((n_y,1))\n    \n    parameters = {\"W1\" : W1,\n                 \"b1\" : b1,\n                 \"W2\" : W2,\n                 \"b2\" : b2}\n    \n    return parameters",
      "execution_count": 12,
      "outputs": []
    },
    {
      "metadata": {
        "_uuid": "cf8496a177ed4acd732f38304a174987b8ce98ea",
        "_cell_guid": "bf51a359-df89-442b-b574-0941897d9118",
        "trusted": true
      },
      "cell_type": "code",
      "source": "# initial parameters\nparametrs = initialize_parameters(2,2,1)\nprint(\"W1 = \"+str(parametrs[\"W1\"]))\nprint(\"b1 = \"+str(parametrs[\"b1\"]))\nprint(\"W2 = \"+str(parametrs[\"W2\"]))\nprint(\"b2 = \"+str(parametrs[\"b2\"]))",
      "execution_count": 13,
      "outputs": [
        {
          "output_type": "stream",
          "text": "W1 = [[ 0.00468246 -0.00220411]\n [-0.00430312 -0.00199859]]\nb1 = [[ 0.]\n [ 0.]]\nW2 = [[ 0.00723089 -0.01496409]]\nb2 = [[ 0.]]\n",
          "name": "stdout"
        }
      ]
    },
    {
      "metadata": {
        "_uuid": "517e518f152d3680d799c330f951ede73daa6698",
        "_cell_guid": "5528a8c1-576d-4cc8-b27a-547c86cd5535",
        "collapsed": true,
        "trusted": true
      },
      "cell_type": "code",
      "source": "def initialize_parameters_deep(layer_dims):\n    \"\"\"\n    inputs:\n    layer_dims: list of the dimention of each layer\n    \n    outputs:\n    parameters: containing the weight and bias parameters of deep neural networks\n    Wl : weight matrix of shape (layer_dims[l],layer_dims[l-1])\n    bl : bias vector of shape (layer_dims[l],1)\n    \"\"\"\n    parameters = {}\n    # number of layers in the network\n    L = len(layer_dims)\n    \n    for l in range(1,L):\n        parameters[\"W\" + str(l)] = np.random.randn(layer_dims[l],layer_dims[l-1]) * 0.001\n        parameters[\"b\" + str(l)] = np.zeros((layer_dims[l],1))\n        \n    return parameters   ",
      "execution_count": 14,
      "outputs": []
    },
    {
      "metadata": {
        "_uuid": "625b427c4070ea7e7007e500f2039e4be440da80",
        "_cell_guid": "6427cfc8-f1b1-4bc8-9ae6-445c8362bfce",
        "trusted": true
      },
      "cell_type": "code",
      "source": "# initial parameters of deep neural nets\nparametrs = initialize_parameters_deep([6,4,3])\nprint(\"W1 = \"+str(parametrs[\"W1\"]))\nprint(\"b1 = \"+str(parametrs[\"b1\"]))\nprint(\"W2 = \"+str(parametrs[\"W2\"]))\nprint(\"b2 = \"+str(parametrs[\"b2\"]))",
      "execution_count": 15,
      "outputs": [
        {
          "output_type": "stream",
          "text": "W1 = [[-0.00029746 -0.00028724 -0.00114869  0.0001015   0.00137852  0.00011196]\n [ 0.00105769 -0.00038552  0.00027897  0.00098101  0.00062238 -0.00018929]\n [-0.00050321  0.0004753  -0.00070215  0.00069441  0.00152079 -0.00010627]\n [-0.00062617 -0.00124563 -0.00041645 -0.00120129  0.0008703  -0.00012588]]\nb1 = [[ 0.]\n [ 0.]\n [ 0.]\n [ 0.]]\nW2 = [[  1.24248678e-04  -8.64079488e-04   4.76760996e-06   7.13820305e-04]\n [ -7.85909201e-04   1.09480471e-05   1.17339756e-03   2.20189012e-04]\n [  1.17873599e-03  -2.46672359e-03  -5.20755119e-04   5.78387222e-04]]\nb2 = [[ 0.]\n [ 0.]\n [ 0.]]\n",
          "name": "stdout"
        }
      ]
    },
    {
      "metadata": {
        "_uuid": "c481db34d95f9dc4fcd39937f1acd42b6da48f69",
        "_cell_guid": "6077f0e1-8f43-4ca5-82bf-f213e69b7640",
        "collapsed": true,
        "trusted": true
      },
      "cell_type": "code",
      "source": "# forward propagation Module\n# building the linear part of NN\ndef linear_forward(A,W,b):\n    '''\n    inputs:\n    A --- Activation from previous layer\n    W,b --- parameters of NN\n    \n    outputs:\n    Z --- linear equation or input for the activation layer\n    cache --- stored A, W and b\n    '''\n    Z = np.dot(W,A) + b\n    cache = (A, W, b)\n    return Z, cache",
      "execution_count": 16,
      "outputs": []
    },
    {
      "metadata": {
        "_uuid": "1a0a04f555d9fb90e38f89eceb218b2f3b600806",
        "_cell_guid": "24598976-8dcd-464a-b357-1a14a02c7c7a",
        "collapsed": true,
        "trusted": true
      },
      "cell_type": "code",
      "source": "# sigmoid function \ndef sigmoid(Z):\n    '''\n    Z : input value, vector or matrix\n    \n    A : sigmoid of Z\n    '''\n    A = 1/(1+np.exp(-Z))\n    cache = Z\n    return A, cache",
      "execution_count": 17,
      "outputs": []
    },
    {
      "metadata": {
        "_uuid": "3124b30df7e879f3f4ba54bf6a3106b0dfe25822",
        "_cell_guid": "081e9232-afec-4e5a-adf8-88e67d939a64",
        "collapsed": true,
        "trusted": true
      },
      "cell_type": "code",
      "source": "# derivative of sigmoid function\ndef sigmoid_backward(dA, activation_cache):\n    #print(\"dA: \"+str(dA))\n    Z = activation_cache\n    #print(\"Z: \"+str(Z))\n    A,cache = sigmoid(Z)\n    dSig = np.multiply(A, (1-A))\n    #print(\"dSig: \"+str(dSig))\n    dZ = np.multiply(dA,dSig)\n    #print(\"dZ: \"+str(dZ))\n    return dZ",
      "execution_count": 18,
      "outputs": []
    },
    {
      "metadata": {
        "_uuid": "13a7e5b2333b5c6f01bf04ea2099e26fe65e4167",
        "_cell_guid": "af4c38ee-ad97-4690-9967-5209c97a2bf7",
        "collapsed": true,
        "trusted": true
      },
      "cell_type": "code",
      "source": "def softmax(Z):\n    exps = np.exp(Z)\n    A = exps/np.sum(exps)\n    cache = Z\n    return A, cache",
      "execution_count": 19,
      "outputs": []
    },
    {
      "metadata": {
        "_uuid": "b7a188250bd0d56d4d647b0f557da7ae410ab486",
        "_cell_guid": "ad0021a8-52c2-4700-9524-3a6b4b007d7a",
        "collapsed": true,
        "trusted": true
      },
      "cell_type": "code",
      "source": "def softmax_backward(dA, activation_cache):\n    Z = activation_cache\n    A,cache = softmax(Z)\n    dSoft = np.mutiply(A,(1-A))\n    dZ = np.multiply(dA,dSoft)\n    return dZ",
      "execution_count": 20,
      "outputs": []
    },
    {
      "metadata": {
        "_uuid": "0df0916d331afcbf9975fed2347383418040347c",
        "_cell_guid": "06a712bf-913b-498e-a67d-71302b858661",
        "collapsed": true,
        "trusted": true
      },
      "cell_type": "code",
      "source": "# ReLU function\ndef relu(Z):\n    A = Z * (Z>0)\n    cache = Z\n    return A, cache\n",
      "execution_count": 21,
      "outputs": []
    },
    {
      "metadata": {
        "_uuid": "d62f50050804b6a8dd40b5fbbda57fa40c5d20ee",
        "_cell_guid": "f078f7f7-4498-4d9d-b706-4a0467132a2f",
        "collapsed": true,
        "trusted": true
      },
      "cell_type": "code",
      "source": "# Derivative of ReLU function\ndef relu_backward(dA, activation_cache):\n    Z = activation_cache\n    dRelu = (Z > 0)\n    dRelu = dRelu.astype(float)\n    dZ = np.multiply(dA,dRelu)\n    return dZ",
      "execution_count": 22,
      "outputs": []
    },
    {
      "metadata": {
        "_uuid": "9afdd1f7b259e4d759412ebcf63dbbcd9d564758",
        "_cell_guid": "7c859f42-981d-4571-9c2e-7509a02caf4e",
        "collapsed": true,
        "trusted": true
      },
      "cell_type": "code",
      "source": "# linear activation function\ndef linear_activation_forward(A_prev, W, b, activation):\n    '''\n    inputs: \n    A_prev, W, b --- As defined in the linear_forward function\n    activation  --- activation to be used\n    \n    outputs:\n    A -- output of the activation function\n    cache -- containing linear cache and activation cache which will use in backpropagation \n            calulation         \n   '''\n    if activation == \"sigmoid\":\n        Z, linear_cache = linear_forward(A_prev,W,b)\n        #print(\"Z: \"+str(Z))\n        A, activation_cache = sigmoid(Z)\n    \n    elif activation == \"relu\":\n        Z, linear_cache = linear_forward(A_prev,W,b)\n        A, activation_cache = relu(Z)\n        \n    cache = (linear_cache, activation_cache)\n    \n    return A, cache",
      "execution_count": 23,
      "outputs": []
    },
    {
      "metadata": {
        "_uuid": "dd270af9d62e61bf1b2dc0aeb6f9cf1e16920b85",
        "_cell_guid": "c95abffb-e4fc-4c76-b033-ce96ded25a52",
        "collapsed": true,
        "trusted": true
      },
      "cell_type": "code",
      "source": "# L-layer linear activation function\ndef L_model_forward(X, parameters):\n    '''\n    X --- data\n    parameters --- output of initialize_parameters_deep()\n    \n    AL -- last post activation value\n    '''\n    caches = []\n    A = X\n    L = len(parameters)//2\n    # implimentation of [Linear ---> RELU * (L-1)]\n    for l in range(1,L):\n        A_prev = A\n        A, cache = linear_activation_forward(A_prev, parameters[\"W\" + str(l)], parameters[\"b\" + str(l)],\"relu\")\n        caches.append(cache)\n    # implimentation of Linear ---> sigmoid\n    AL, cache = linear_activation_forward(A, parameters[\"W\" + str(l)], parameters[\"b\" + str(l)], \"sigmoid\")\n    caches.append(cache)\n    \n    return AL, caches\n    ",
      "execution_count": 24,
      "outputs": []
    },
    {
      "metadata": {
        "_uuid": "98e790259427a66fec382668824e0e9280645905",
        "_cell_guid": "5954747b-6497-4a51-8968-2c5b4e0ccd58",
        "collapsed": true,
        "trusted": true
      },
      "cell_type": "code",
      "source": "def one_hot_matrix(Y, n_y):\n    Y = np.vstack(Y)\n    Y_ = np.zeros((Y.shape[0],n_y))\n    Y_[np.arange(Y.shape[0]),Y.T] = 1\n    Y_ = Y_.T\n    return Y_\n    ",
      "execution_count": 25,
      "outputs": []
    },
    {
      "metadata": {
        "_uuid": "21962985681e03c91b41042e45c5b930c53ec994",
        "scrolled": true,
        "_cell_guid": "4b192fab-7c31-499d-98b2-d7f17a4e473b",
        "collapsed": true,
        "trusted": true
      },
      "cell_type": "code",
      "source": "Y = one_hot_matrix(train_y,10)",
      "execution_count": 26,
      "outputs": []
    },
    {
      "metadata": {
        "_uuid": "d06afb784209c1cd531d14e6d7c079ef7c92ccfe",
        "_cell_guid": "e82cc49c-4f32-4609-8554-de50381324a4",
        "collapsed": true,
        "trusted": true
      },
      "cell_type": "code",
      "source": "# computing the cost function\ndef compute_cost1(AL, Y):\n    '''\n    AL --- probability vector corresponding to label prediction\n    Y --- correct label vector\n    \n    cost --- entropy cost\n    '''\n    m = Y.shape[0]\n    #print(AL[1,:])\n    cost = 0\n    for i in range(0,10):\n        cost = cost-np.sum(np.multiply(np.log(AL[i,:]),(Y==i)) + np.multiply(np.log(1-AL[i,:]),(1-(Y==i))))/m\n    cost = np.squeeze(cost)\n    return cost",
      "execution_count": 27,
      "outputs": []
    },
    {
      "metadata": {
        "_uuid": "52b73695b26a6544e27de9444663b44213677212",
        "_cell_guid": "56362ed7-ccf8-496b-aae9-a85b9879b126",
        "collapsed": true,
        "trusted": true
      },
      "cell_type": "code",
      "source": "def compute_cost(AL, Y):\n    m = Y.shape[1]\n    cost = -np.sum(np.multiply(np.log(AL),Y)+np.multiply(np.log(1-AL),(1-Y)))/m\n    return cost",
      "execution_count": 28,
      "outputs": []
    },
    {
      "metadata": {
        "_uuid": "6723d46ae223476bf471d259314f905160a09744",
        "_cell_guid": "7898f742-8d16-48ae-b059-998e175fea17",
        "collapsed": true,
        "trusted": true
      },
      "cell_type": "code",
      "source": "# Backward propagation module\n# Implimentation of backward propagation for single layer\ndef linear_backward(dZ, cache):\n    A_prev, W, b = cache\n    m = A_prev.shape[1]\n    dW = np.matmul(dZ,A_prev.T)/m\n    db = np.sum(dZ, axis=1,keepdims = True)/m\n    dA_prev = np.matmul(W.T,dZ)\n    return dA_prev, dW, db\n    ",
      "execution_count": 29,
      "outputs": []
    },
    {
      "metadata": {
        "_uuid": "de24395bb97d5882b7a0be63b80ddc0567b9ef00",
        "_cell_guid": "9f045621-c2e7-4383-8310-69fd76b62815",
        "collapsed": true,
        "trusted": true
      },
      "cell_type": "code",
      "source": "# linear activation backward\ndef linear_activation_backward(dA, cache, activation):\n    linear_cache, activation_cache = cache\n    if activation == \"relu\":\n        dZ = relu_backward(dA, activation_cache)\n        dA_prev, dW, db = linear_backward(dZ, linear_cache)\n        \n    if activation == \"sigmoid\":\n        dZ = sigmoid_backward(dA, activation_cache)\n        dA_prev, dW, db = linear_backward(dZ, linear_cache)\n    \n    return dA_prev, dW, db",
      "execution_count": 30,
      "outputs": []
    },
    {
      "metadata": {
        "_uuid": "f18f45c9c0d43f4a6824cd3bce665d32cd57210f",
        "_cell_guid": "c0dc6643-dab2-4c97-877e-27e811760e85",
        "collapsed": true,
        "trusted": true
      },
      "cell_type": "code",
      "source": "# implimentation for parameter updation\ndef update_parameters(parameters, grads, learning_rate):\n    L = len(parameters)//2\n    for l in range(L):\n        parameters[\"W\"+str(l+1)] = parameters[\"W\"+str(l+1)] - learning_rate * grads[\"dW\"+str(l+1)]\n        parameters[\"b\"+str(l+1)] = parameters[\"b\"+str(l+1)] - learning_rate * grads[\"db\"+str(l+1)]\n    return parameters",
      "execution_count": 31,
      "outputs": []
    },
    {
      "metadata": {
        "_uuid": "651d747f5a24ab90d06a1b368c9c100ba7215491",
        "_cell_guid": "f6cf2e9a-2926-41ca-8d86-151a8ccea87d",
        "collapsed": true,
        "trusted": true
      },
      "cell_type": "code",
      "source": "# Two layer model\ndef two_layer_model(X, Y, layers_dims, learning_rate = 0.0001, num_iteration = 3000):\n    costs = []\n    grads = {}\n    m = X.shape[0]\n    (n_x,n_h,n_y) = layers_dims\n    parameters = initialize_parameters(n_x, n_h, n_y)\n    W1 = parameters[\"W1\"]\n    b1 = parameters[\"b1\"]\n    W2 = parameters[\"W2\"]\n    b2 = parameters[\"b2\"]\n    Y_ = Y\n    Y = one_hot_matrix(Y,n_y)\n    \n    for i in range(0,num_iteration):\n        A1, cache1 = linear_activation_forward(X, W1, b1, \"relu\")\n        A2, cache2 = linear_activation_forward(A1, W2, b2, \"sigmoid\")\n        cost = compute_cost(A2, Y)\n        #Y = one_hot_matrix(Y_,n_y)\n        #cost1 = compute_cost1(A2,Y_)\n        #print(cost1,cost)\n        # initializing backward propagation\n        #print(\"cost1: \"+str(cost1))\n        #print(\"cost: \"+str(cost))\n        #print(\"A1: \"+str(A1))\n        #print(\"A2: \"+str(A2))\n        #print(cost1)\n        dA2 = -(np.divide(Y,A2) - np.divide((1-Y),(1-A2)))\n        #dA2 = A2 - Y\n        #print(\"dA2: \"+str(dA2))\n        #print(\"cache2 : \"+str(cache2))\n        dA1, dW2, db2 = linear_activation_backward(dA2, cache2, \"sigmoid\")\n        dA0, dW1, db1 = linear_activation_backward(dA1, cache1, \"relu\")\n        \n        grads[\"dW1\"] = dW1\n        grads[\"db1\"] = db1\n        grads[\"dW2\"] = dW2\n        grads[\"db2\"] = db2\n        parameters = update_parameters(parameters, grads, learning_rate)\n        \n        W1 = parameters[\"W1\"]\n        b1 = parameters[\"b1\"]\n        W2 = parameters[\"W2\"]\n        b2 = parameters[\"b2\"]\n        if i % 100 == 0:\n            print(\"Cost after iteration {}: {}\".format(i,np.squeeze(cost)))\n        if i%100 == 0:\n            costs.append(cost)\n            \n    # plot the cost\n    plt.figure(6)\n    plt.plot(np.squeeze(costs))\n    plt.ylabel('cost')\n    plt.xlabel('iterations (per tens)')\n    plt.title(\"Learning rate = \"+str(learning_rate))\n    plt.show()\n    return parameters",
      "execution_count": 32,
      "outputs": []
    },
    {
      "metadata": {
        "_uuid": "6128d9988f55f386d518c9ae758009465c1f2ce1",
        "_cell_guid": "b369740f-9e8f-4e6e-b309-f6d541e03317",
        "trusted": true
      },
      "cell_type": "code",
      "source": "# Constant for the model\nn_x = 784 ; # number of pixels of each image\nn_h = 30\nn_y = 10; # number of possible digits\nlayers_dims = (n_x, n_h, n_y)\ntrain_y = np.array(train_y)\nparameters = two_layer_model(train_x.T,train_y,layers_dims)",
      "execution_count": 33,
      "outputs": [
        {
          "output_type": "stream",
          "text": "Cost after iteration 0: 7.344962787614941\nCost after iteration 100: 2.4983120579908027\nCost after iteration 200: 1.8094503805738475\nCost after iteration 300: 1.4720843346393584\nCost after iteration 400: 1.2854437047722154\nCost after iteration 500: 1.1661576361514323\nCost after iteration 600: 1.081502291557627\nCost after iteration 700: 1.01689875490986\nCost after iteration 800: 0.9654390823538223\nCost after iteration 900: 0.9230534058755071\nCost after iteration 1000: 0.8872332226637695\nCost after iteration 1100: 0.8563652621589363\nCost after iteration 1200: 0.8294544600701013\nCost after iteration 1300: 0.8058083309536634\nCost after iteration 1400: 0.7847295646142267\nCost after iteration 1500: 0.7658074489342956\nCost after iteration 1600: 0.748695535466529\nCost after iteration 1700: 0.7330655850168863\nCost after iteration 1800: 0.7186906475549059\nCost after iteration 1900: 0.7054274319197643\nCost after iteration 2000: 0.6930999149645413\nCost after iteration 2100: 0.6815974658754301\nCost after iteration 2200: 0.6708478922072679\nCost after iteration 2300: 0.6607317314071405\nCost after iteration 2400: 0.6511712019780308\nCost after iteration 2500: 0.6421147523918276\nCost after iteration 2600: 0.6335531432891915\nCost after iteration 2700: 0.6254219073867475\nCost after iteration 2800: 0.6176805919546832\nCost after iteration 2900: 0.6103068705261033\n",
          "name": "stdout"
        },
        {
          "output_type": "display_data",
          "data": {
            "text/plain": "<matplotlib.figure.Figure at 0x7ff8cc4ea128>",
            "image/png": "[encoded data removed]"
          },
          "metadata": {}
        }
      ]
    },
    {
      "metadata": {
        "_uuid": "b1f624fcbf4160788bd5870eabc7c986ce46f582",
        "_cell_guid": "f0e84c38-323e-4763-99df-75c06425535c",
        "trusted": true
      },
      "cell_type": "code",
      "source": "print(parameters)",
      "execution_count": 34,
      "outputs": [
        {
          "output_type": "stream",
          "text": "{'W1': array([[  8.45929262e-03,  -1.02715367e-03,   2.08872598e-02, ...,\n         -7.25754317e-03,  -6.91062218e-03,   1.33468975e-03],\n       [  1.32285189e-03,  -1.18028855e-02,  -1.04873497e-02, ...,\n          3.77924486e-03,   8.85470690e-03,  -7.67739958e-03],\n       [ -8.87059251e-03,   3.12378390e-03,   2.16403769e-03, ...,\n         -4.64943587e-03,   1.39812210e-02,  -2.56316406e-03],\n       ..., \n       [  6.15820273e-03,  -1.05149610e-02,  -8.69191295e-03, ...,\n          1.36976594e-02,  -5.01988163e-03,   6.93481673e-05],\n       [  1.83471740e-02,   8.13953653e-03,   7.99688037e-03, ...,\n         -2.55190812e-03,  -1.27130805e-03,  -1.35578591e-02],\n       [ -1.14160349e-02,  -1.70090425e-03,   4.54977430e-03, ...,\n         -6.58920884e-04,  -4.00403035e-03,   4.39923706e-03]]), 'b1': array([[  5.77469576e-05],\n       [  2.96048950e-05],\n       [  2.89286408e-05],\n       [ -4.44604254e-06],\n       [  2.55777345e-05],\n       [  2.26472717e-05],\n       [  8.19208397e-06],\n       [  8.46641614e-06],\n       [  3.93289223e-05],\n       [  3.35897074e-05],\n       [  5.61565815e-05],\n       [  6.18252533e-05],\n       [  5.71465155e-05],\n       [  1.75967338e-04],\n       [ -8.70298531e-06],\n       [  4.46377950e-05],\n       [  6.24252005e-05],\n       [  9.21800225e-05],\n       [  4.37208601e-05],\n       [  7.54066853e-05],\n       [  7.51095903e-05],\n       [  4.77810054e-05],\n       [  1.22139250e-05],\n       [  2.08121203e-05],\n       [  9.76521213e-05],\n       [  4.31255224e-05],\n       [  1.45302357e-05],\n       [  9.21723491e-05],\n       [  1.03434463e-04],\n       [  6.92753315e-05]]), 'W2': array([[ -3.29073437e-02,  -3.56154150e-02,  -2.70113453e-02,\n         -6.22501613e-03,   3.54262271e-03,   1.65742608e-03,\n         -2.10828262e-02,  -9.96156698e-03,  -1.21158075e-02,\n         -5.68769799e-03,  -2.71725445e-02,  -2.05128160e-03,\n         -2.88705305e-02,  -2.23275035e-02,  -1.17012177e-02,\n          3.75573684e-03,  -8.66010658e-03,  -5.64182117e-03,\n         -2.89733522e-02,   1.06721281e-02,   1.73377600e-02,\n         -7.96879570e-03,   1.41129899e-02,   5.52010515e-02,\n          1.37697481e-02,  -8.23689994e-03,  -4.28030632e-04,\n         -2.75530852e-02,  -2.17067344e-02,  -6.80117180e-02],\n       [  2.15299060e-02,  -1.49660593e-02,  -1.59463412e-02,\n         -2.49506892e-03,   8.05432964e-04,  -2.66697468e-02,\n         -2.00562599e-04,  -2.15640180e-02,  -2.51498082e-03,\n         -8.29715373e-03,  -1.12016085e-02,  -2.53959339e-03,\n         -3.34862940e-02,   1.02741532e-02,   1.38986281e-02,\n          6.38347191e-04,   3.27899394e-02,  -2.13639009e-02,\n          2.10270515e-02,  -2.76060458e-02,  -4.40095350e-02,\n         -4.12561858e-02,   2.62367130e-02,  -5.43367299e-02,\n          3.05844355e-02,  -5.65197389e-03,   6.61296787e-03,\n          9.32851028e-03,  -1.37479275e-02,   1.45402964e-02],\n       [ -2.37652749e-02,   5.42475205e-03,  -2.32959840e-02,\n         -1.08065946e-02,  -2.27047578e-02,   4.51596796e-03,\n          2.21241276e-02,   4.35215479e-03,   1.57099584e-02,\n         -4.06195213e-03,  -1.45672146e-02,   1.86025533e-02,\n          4.38372215e-02,  -3.81974621e-02,  -4.64305518e-03,\n         -1.70971156e-02,   3.51282312e-02,  -2.84336939e-02,\n          2.68133373e-03,  -4.99402549e-03,  -1.62386903e-02,\n          9.03105368e-03,  -1.85600001e-02,  -3.63180956e-03,\n         -2.56117261e-02,   2.69878613e-04,  -1.00807183e-02,\n         -3.74215936e-02,  -1.96393525e-02,  -2.69055128e-02],\n       [  1.46675156e-02,   2.79605282e-02,   2.23588148e-02,\n          1.31188803e-02,  -1.30946586e-02,  -1.62631655e-02,\n          2.14377436e-02,  -2.30025323e-02,  -2.14075024e-02,\n         -1.31280224e-02,   1.49356413e-02,  -3.95721878e-02,\n         -2.54943429e-02,   5.83643471e-03,  -1.24646261e-02,\n         -4.09556861e-02,  -9.20269182e-03,  -1.99100430e-02,\n          1.86540468e-02,  -4.86901364e-02,  -9.83600952e-03,\n         -2.95469624e-03,  -1.85001738e-02,   2.20996272e-02,\n         -4.23492470e-02,  -1.32501736e-02,  -1.55457235e-03,\n         -2.99931856e-02,  -5.04159877e-02,   4.75330043e-03],\n       [ -4.29404216e-03,   1.55576923e-02,  -1.28113553e-02,\n          5.92453563e-03,  -1.45842298e-02,  -4.09585956e-02,\n         -8.00802533e-04,  -2.45279345e-02,  -1.65964397e-02,\n          1.27280142e-02,   2.40290383e-02,  -3.69966345e-02,\n         -1.77068738e-02,  -4.15764990e-02,  -2.42682336e-02,\n          1.11460101e-02,  -3.05228483e-02,   1.53801342e-02,\n         -4.18570782e-02,   1.48695808e-02,   1.44231899e-02,\n          1.23906445e-02,   1.07619115e-03,  -7.76066388e-02,\n         -2.04274501e-02,   1.60593092e-02,   1.78840745e-03,\n          7.72208661e-03,   9.69743790e-03,  -1.22423920e-02],\n       [ -2.69043513e-02,  -1.22078008e-02,   5.04750588e-02,\n         -3.84112105e-03,   4.16224653e-02,  -3.44860738e-03,\n         -3.77035464e-02,  -7.67383068e-03,  -1.15324647e-02,\n          1.46669979e-02,   1.82732207e-02,   1.77612150e-02,\n          1.36847171e-02,   1.88377122e-02,   4.65988991e-03,\n         -2.61994606e-02,  -2.78678842e-02,   2.05348425e-02,\n         -4.37113853e-02,   1.77489727e-05,  -4.73613258e-02,\n         -1.63875248e-02,   1.07437720e-02,  -1.33781127e-02,\n          5.53872712e-03,   2.81124549e-03,   1.29603056e-02,\n         -6.19437043e-02,   8.46557231e-03,  -7.67136517e-03],\n       [ -1.83929518e-02,  -2.16763718e-03,  -2.96258785e-02,\n         -5.91374414e-03,  -6.67447861e-03,  -1.18580464e-02,\n         -3.10835457e-02,   1.12484238e-02,  -1.82883483e-02,\n         -1.18022929e-02,  -1.86522297e-02,   2.53482757e-02,\n         -2.22748240e-02,  -3.96760106e-03,   1.41182329e-02,\n         -3.05060015e-03,  -5.17175228e-02,  -2.14105573e-03,\n          3.11197080e-02,   2.47936243e-02,   2.86941950e-02,\n         -3.55545215e-02,   5.31162485e-03,  -5.16085786e-02,\n         -2.85651988e-02,  -7.48367060e-03,   3.41284760e-03,\n         -1.00997873e-02,  -2.77877256e-02,  -4.50390187e-02],\n       [  4.10656424e-02,  -1.15709020e-02,  -1.90535855e-02,\n         -8.86672479e-03,   1.09650723e-02,  -1.24936905e-03,\n         -1.27873799e-04,  -2.60607471e-02,   1.60500216e-02,\n         -1.46320403e-02,  -2.26359938e-02,   8.81802583e-03,\n          1.56654920e-02,  -1.16226814e-03,   2.48062748e-02,\n          1.05046898e-02,  -1.59295994e-02,  -6.69801444e-02,\n         -2.98234503e-02,   7.84941714e-03,  -1.46588283e-02,\n         -2.90796426e-03,  -1.28394866e-02,   1.42292346e-02,\n         -2.01029310e-02,  -3.72343865e-03,   8.01759393e-03,\n          1.84773150e-02,   2.12002670e-02,   1.14869603e-02],\n       [ -1.82153083e-02,  -1.13200882e-02,  -6.14590374e-02,\n         -4.74796017e-03,  -1.82651942e-02,  -9.80521674e-03,\n          9.21178218e-03,   1.82579595e-02,  -3.77414452e-02,\n         -1.40406550e-02,  -4.62846478e-02,  -1.84158108e-02,\n         -3.99578353e-02,  -3.61539693e-02,   1.59417072e-02,\n          1.47722482e-02,  -5.26819419e-02,   1.93628538e-02,\n          1.50661967e-02,  -3.05752473e-02,  -5.37885716e-02,\n          4.15882796e-03,  -1.10220318e-02,  -1.17637628e-02,\n         -3.13419340e-02,   1.94752743e-02,   6.11008831e-03,\n         -6.10212013e-02,   1.21440797e-02,   1.12836581e-02],\n       [ -2.58771166e-02,  -4.97670051e-04,  -1.38787365e-02,\n          2.08569515e-02,  -8.14712934e-03,   2.37905453e-02,\n         -4.86559432e-02,   1.44638820e-02,  -1.81489970e-02,\n         -2.57605174e-02,  -3.34321549e-03,  -2.17619685e-02,\n         -1.49581604e-02,  -4.07376798e-02,   1.52685228e-02,\n         -1.94370505e-02,  -2.90862258e-02,  -6.47154594e-03,\n         -2.06222021e-02,  -1.76337556e-02,  -5.79821010e-03,\n         -2.64024611e-03,  -1.02287317e-02,  -8.50467177e-04,\n         -2.94607251e-02,  -5.22756290e-02,  -4.13973873e-02,\n          4.53517825e-02,  -3.46338950e-03,   1.50169705e-02]]), 'b2': array([[-0.00182578],\n       [-0.00031953],\n       [-0.00194357],\n       [-0.00205447],\n       [-0.00092732],\n       [-0.00047661],\n       [-0.00102378],\n       [-0.00076665],\n       [-0.00305445],\n       [-0.00211901]])}\n",
          "name": "stdout"
        }
      ]
    },
    {
      "metadata": {
        "_uuid": "b9d9887e3c1ccf4ba77483be027c73667c4011e6",
        "_cell_guid": "dafc3e9d-9f65-40c4-b24c-9356fec8f6be",
        "collapsed": true,
        "trusted": true
      },
      "cell_type": "code",
      "source": "def predict(X, y, parameters):\n    m = X.shape[1]\n    \n    W1 = parameters[\"W1\"]\n    b1 = parameters[\"b1\"]\n    W2 = parameters[\"W2\"]\n    b2 = parameters[\"b2\"]\n    \n    y = one_hot_matrix(y,b2.shape[0])\n    y_prediction = np.zeros(y.shape)\n    A1, cache1 = linear_activation_forward(X, W1, b1, \"relu\")\n    A2, cache2 = linear_activation_forward(A1, W2, b2, \"sigmoid\")\n    y_prediction = A2 > 0.5\n    y_prediction = y_prediction.astype(float)\n    accuracy = 100 - np.mean(np.abs(y_prediction -y))\n    return accuracy",
      "execution_count": 35,
      "outputs": []
    },
    {
      "metadata": {
        "_uuid": "399310067d7820b20ce5964db3ab131d3f359230",
        "_cell_guid": "98da26c4-05fa-4b23-b0a9-3691a088ca9d",
        "trusted": true
      },
      "cell_type": "code",
      "source": "train_accuracy = predict(train_x.T, train_y, parameters)\nprint(\"train accuracy: \"+str(train_accuracy)+\"%\")",
      "execution_count": 36,
      "outputs": [
        {
          "output_type": "stream",
          "text": "train accuracy: 99.980897619%\n",
          "name": "stdout"
        }
      ]
    },
    {
      "metadata": {
        "_uuid": "57e973787c807813bbdc9f0e9dd95f1d492f7df6",
        "_cell_guid": "919705f7-d332-4911-892b-26ba54fe78b0",
        "collapsed": true,
        "trusted": true
      },
      "cell_type": "code",
      "source": "def decode_one_hot_matrix(mat):\n    vec = np.argmax(mat, axis = 0)\n    return vec",
      "execution_count": 37,
      "outputs": []
    },
    {
      "metadata": {
        "_uuid": "3c86525a6b672183d2654681f218adf2d2e5a195",
        "_cell_guid": "e70301ab-c4fa-4462-8113-9e2f9797a76c",
        "collapsed": true,
        "trusted": true
      },
      "cell_type": "code",
      "source": "def predicted_digit(X,parameters):\n    W1 = parameters[\"W1\"]\n    b1 = parameters[\"b1\"]\n    W2 = parameters[\"W2\"]\n    b2 = parameters[\"b2\"]\n    y_prediction = np.zeros((b2.shape[0],X.shape[1]),np.float)\n    A1, cache1 = linear_activation_forward(X, W1, b1, \"relu\")\n    A2, cache2 = linear_activation_forward(A1, W2, b2, \"sigmoid\")\n    y_prediction = A2 > 0.5\n    y_prediction = y_prediction.astype(float)\n    y_prediction = decode_one_hot_matrix(y_prediction)\n    return y_prediction",
      "execution_count": 38,
      "outputs": []
    },
    {
      "metadata": {
        "_uuid": "045f5648dfdf906e1667e47178f4ee320ae000b6",
        "_cell_guid": "c844c468-bcfd-4c77-ad69-7d1f2f8a586f",
        "trusted": true
      },
      "cell_type": "code",
      "source": "test_y =predicted_digit(test.T,parameters)\npd.DataFrame(test_y)",
      "execution_count": 39,
      "outputs": [
        {
          "output_type": "execute_result",
          "execution_count": 39,
          "data": {
            "text/plain": "       0\n0      2\n1      0\n2      9\n3      7\n4      3\n5      7\n6      0\n7      3\n8      0\n9      3\n10     5\n11     7\n12     0\n13     0\n14     4\n15     0\n16     3\n17     1\n18     9\n19     0\n20     9\n21     1\n22     1\n23     5\n24     7\n25     4\n26     2\n27     7\n28     0\n29     7\n...   ..\n27970  5\n27971  0\n27972  4\n27973  8\n27974  0\n27975  3\n27976  6\n27977  0\n27978  1\n27979  9\n27980  3\n27981  1\n27982  1\n27983  0\n27984  4\n27985  5\n27986  2\n27987  2\n27988  0\n27989  6\n27990  7\n27991  6\n27992  0\n27993  0\n27994  7\n27995  9\n27996  7\n27997  3\n27998  9\n27999  2\n\n[28000 rows x 1 columns]",
            "text/html": "<div>\n<style>\n    .dataframe thead tr:only-child th {\n        text-align: right;\n    }\n\n    .dataframe thead th {\n        text-align: left;\n    }\n\n    .dataframe tbody tr th {\n        vertical-align: top;\n    }\n</style>\n<table border=\"1\" class=\"dataframe\">\n  <thead>\n    <tr style=\"text-align: right;\">\n      <th></th>\n      <th>0</th>\n    </tr>\n  </thead>\n  <tbody>\n    <tr>\n      <th>0</th>\n      <td>2</td>\n    </tr>\n    <tr>\n      <th>1</th>\n      <td>0</td>\n    </tr>\n    <tr>\n      <th>2</th>\n      <td>9</td>\n    </tr>\n    <tr>\n      <th>3</th>\n      <td>7</td>\n    </tr>\n    <tr>\n      <th>4</th>\n      <td>3</td>\n    </tr>\n    <tr>\n      <th>5</th>\n      <td>7</td>\n    </tr>\n    <tr>\n      <th>6</th>\n      <td>0</td>\n    </tr>\n    <tr>\n      <th>7</th>\n      <td>3</td>\n    </tr>\n    <tr>\n      <th>8</th>\n      <td>0</td>\n    </tr>\n    <tr>\n      <th>9</th>\n      <td>3</td>\n    </tr>\n    <tr>\n      <th>10</th>\n      <td>5</td>\n    </tr>\n    <tr>\n      <th>11</th>\n      <td>7</td>\n    </tr>\n    <tr>\n      <th>12</th>\n      <td>0</td>\n    </tr>\n    <tr>\n      <th>13</th>\n      <td>0</td>\n    </tr>\n    <tr>\n      <th>14</th>\n      <td>4</td>\n    </tr>\n    <tr>\n      <th>15</th>\n      <td>0</td>\n    </tr>\n    <tr>\n      <th>16</th>\n      <td>3</td>\n    </tr>\n    <tr>\n      <th>17</th>\n      <td>1</td>\n    </tr>\n    <tr>\n      <th>18</th>\n      <td>9</td>\n    </tr>\n    <tr>\n      <th>19</th>\n      <td>0</td>\n    </tr>\n    <tr>\n      <th>20</th>\n      <td>9</td>\n    </tr>\n    <tr>\n      <th>21</th>\n      <td>1</td>\n    </tr>\n    <tr>\n      <th>22</th>\n      <td>1</td>\n    </tr>\n    <tr>\n      <th>23</th>\n      <td>5</td>\n    </tr>\n    <tr>\n      <th>24</th>\n      <td>7</td>\n    </tr>\n    <tr>\n      <th>25</th>\n      <td>4</td>\n    </tr>\n    <tr>\n      <th>26</th>\n      <td>2</td>\n    </tr>\n    <tr>\n      <th>27</th>\n      <td>7</td>\n    </tr>\n    <tr>\n      <th>28</th>\n      <td>0</td>\n    </tr>\n    <tr>\n      <th>29</th>\n      <td>7</td>\n    </tr>\n    <tr>\n      <th>...</th>\n      <td>...</td>\n    </tr>\n    <tr>\n      <th>27970</th>\n      <td>5</td>\n    </tr>\n    <tr>\n      <th>27971</th>\n      <td>0</td>\n    </tr>\n    <tr>\n      <th>27972</th>\n      <td>4</td>\n    </tr>\n    <tr>\n      <th>27973</th>\n      <td>8</td>\n    </tr>\n    <tr>\n      <th>27974</th>\n      <td>0</td>\n    </tr>\n    <tr>\n      <th>27975</th>\n      <td>3</td>\n    </tr>\n    <tr>\n      <th>27976</th>\n      <td>6</td>\n    </tr>\n    <tr>\n      <th>27977</th>\n      <td>0</td>\n    </tr>\n    <tr>\n      <th>27978</th>\n      <td>1</td>\n    </tr>\n    <tr>\n      <th>27979</th>\n      <td>9</td>\n    </tr>\n    <tr>\n      <th>27980</th>\n      <td>3</td>\n    </tr>\n    <tr>\n      <th>27981</th>\n      <td>1</td>\n    </tr>\n    <tr>\n      <th>27982</th>\n      <td>1</td>\n    </tr>\n    <tr>\n      <th>27983</th>\n      <td>0</td>\n    </tr>\n    <tr>\n      <th>27984</th>\n      <td>4</td>\n    </tr>\n    <tr>\n      <th>27985</th>\n      <td>5</td>\n    </tr>\n    <tr>\n      <th>27986</th>\n      <td>2</td>\n    </tr>\n    <tr>\n      <th>27987</th>\n      <td>2</td>\n    </tr>\n    <tr>\n      <th>27988</th>\n      <td>0</td>\n    </tr>\n    <tr>\n      <th>27989</th>\n      <td>6</td>\n    </tr>\n    <tr>\n      <th>27990</th>\n      <td>7</td>\n    </tr>\n    <tr>\n      <th>27991</th>\n      <td>6</td>\n    </tr>\n    <tr>\n      <th>27992</th>\n      <td>0</td>\n    </tr>\n    <tr>\n      <th>27993</th>\n      <td>0</td>\n    </tr>\n    <tr>\n      <th>27994</th>\n      <td>7</td>\n    </tr>\n    <tr>\n      <th>27995</th>\n      <td>9</td>\n    </tr>\n    <tr>\n      <th>27996</th>\n      <td>7</td>\n    </tr>\n    <tr>\n      <th>27997</th>\n      <td>3</td>\n    </tr>\n    <tr>\n      <th>27998</th>\n      <td>9</td>\n    </tr>\n    <tr>\n      <th>27999</th>\n      <td>2</td>\n    </tr>\n  </tbody>\n</table>\n<p>28000 rows × 1 columns</p>\n</div>"
          },
          "metadata": {}
        }
      ]
    },
    {
      "metadata": {
        "_kg_hide-output": false,
        "_uuid": "5c4306d6d96c82bc7cddcb30637e35ae659e885b",
        "_cell_guid": "caa5bb3e-100f-4c8f-bb2f-21e21d096078",
        "_kg_hide-input": false,
        "trusted": true
      },
      "cell_type": "code",
      "source": "ImageId = np.array(list(range(test_y.shape[0])))\nImageId = ImageId + 1\nsubmission = pd.DataFrame({\n        \"ImageId\": ImageId,\n        \"Label\": test_y\n    })\nsubmission.to_csv(\"output2.csv\", index=False)\noutputFile = pd.read_csv(\"output2.csv\")\noutputFile.head()",
      "execution_count": 49,
      "outputs": [
        {
          "output_type": "execute_result",
          "execution_count": 49,
          "data": {
            "text/plain": "   ImageId  Label\n0        1      2\n1        2      0\n2        3      9\n3        4      7\n4        5      3",
            "text/html": "<div>\n<style>\n    .dataframe thead tr:only-child th {\n        text-align: right;\n    }\n\n    .dataframe thead th {\n        text-align: left;\n    }\n\n    .dataframe tbody tr th {\n        vertical-align: top;\n    }\n</style>\n<table border=\"1\" class=\"dataframe\">\n  <thead>\n    <tr style=\"text-align: right;\">\n      <th></th>\n      <th>ImageId</th>\n      <th>Label</th>\n    </tr>\n  </thead>\n  <tbody>\n    <tr>\n      <th>0</th>\n      <td>1</td>\n      <td>2</td>\n    </tr>\n    <tr>\n      <th>1</th>\n      <td>2</td>\n      <td>0</td>\n    </tr>\n    <tr>\n      <th>2</th>\n      <td>3</td>\n      <td>9</td>\n    </tr>\n    <tr>\n      <th>3</th>\n      <td>4</td>\n      <td>7</td>\n    </tr>\n    <tr>\n      <th>4</th>\n      <td>5</td>\n      <td>3</td>\n    </tr>\n  </tbody>\n</table>\n</div>"
          },
          "metadata": {}
        }
      ]
    },
    {
      "metadata": {
        "_uuid": "958cf5b63ac6419942a1e851a08aaadadedffb0f",
        "_cell_guid": "098a7798-8e77-4863-a192-08fa2e0a00e2",
        "trusted": true
      },
      "cell_type": "code",
      "source": "index = 25000\nplt.figure(7)\nplt.imshow(test.iloc[index,:].reshape(28,28))\nprint(\"Corresponding label = \" + str(test_y[index]))",
      "execution_count": 50,
      "outputs": [
        {
          "output_type": "stream",
          "text": "Corresponding label = 2\n",
          "name": "stdout"
        },
        {
          "output_type": "stream",
          "text": "/opt/conda/lib/python3.6/site-packages/ipykernel_launcher.py:3: FutureWarning: reshape is deprecated and will raise in a subsequent release. Please use .values.reshape(...) instead\n  This is separate from the ipykernel package so we can avoid doing imports until\n",
          "name": "stderr"
        },
        {
          "output_type": "display_data",
          "data": {
            "text/plain": "<matplotlib.figure.Figure at 0x7ff8cc6cbc50>",
            "image/png": "[encoded data removed]"
          },
          "metadata": {}
        }
      ]
    },
    {
      "metadata": {
        "trusted": true,
        "collapsed": true,
        "_uuid": "54e821355632b36f81b7a6a24507f8af45525cf6"
      },
      "cell_type": "code",
      "source": "",
      "execution_count": null,
      "outputs": []
    }
  ],
  "metadata": {
    "language_info": {
      "name": "python",
      "version": "3.6.1",
      "mimetype": "text/x-python",
      "codemirror_mode": {
        "name": "ipython",
        "version": 3
      },
      "pygments_lexer": "ipython3",
      "nbconvert_exporter": "python",
      "file_extension": ".py"
    },
    "kernelspec": {
      "display_name": "Python 3",
      "language": "python",
      "name": "python3"
    }
  },
  "nbformat": 4,
  "nbformat_minor": 1
}